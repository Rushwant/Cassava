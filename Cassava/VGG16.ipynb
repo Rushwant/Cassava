{
 "cells": [
  {
   "cell_type": "code",
   "execution_count": 1,
   "metadata": {
    "colab": {
     "base_uri": "https://localhost:8080/"
    },
    "id": "HkPmxPiPEty1",
    "outputId": "b579fd49-8c7a-4b8d-922e-d147e239d7a5"
   },
   "outputs": [
    {
     "name": "stdout",
     "output_type": "stream",
     "text": [
      "Mounted at /content/drive\n"
     ]
    }
   ],
   "source": [
    "from google.colab import drive\n",
    "drive.mount('/content/drive')"
   ]
  },
  {
   "cell_type": "code",
   "execution_count": 2,
   "metadata": {
    "id": "9rm7sPkyE06r"
   },
   "outputs": [],
   "source": [
    "import pandas as pd\n",
    "import numpy as np\n",
    "from sklearn.dummy import DummyClassifier\n",
    "import pandas as pd\n",
    "import io\n",
    "from keras.preprocessing.image import img_to_array, load_img, ImageDataGenerator\n",
    "import json\n",
    "from tensorflow import keras\n",
    "import tensorflow as tf\n",
    "\n",
    "import matplotlib.pyplot as plt\n",
    "import seaborn as sns\n",
    "import matplotlib.image as mpimg\n",
    "import random\n",
    "import tensorflow as tf\n",
    "import cv2\n",
    "from mpl_toolkits.mplot3d import Axes3D\n",
    "from matplotlib import cm\n",
    "from matplotlib import colors\n",
    "from sklearn.model_selection import train_test_split\n",
    "import re\n",
    "from functools import partial\n",
    "import keras\n",
    "from keras.layers import Dense, Dropout, Input, MaxPooling2D, ZeroPadding2D, Conv2D, Flatten, BatchNormalization\n",
    "from keras.models import Sequential, Model\n",
    "from keras.losses import categorical_crossentropy\n",
    "from tensorflow.keras.optimizers import Adam, SGD\n",
    "from keras.preprocessing.image import img_to_array, load_img, ImageDataGenerator\n",
    "from tensorflow.keras.utils import to_categorical\n",
    "from tensorflow.keras import regularizers\n",
    "\n",
    "from tensorflow.keras.layers import MaxPool2D, AveragePooling2D, GlobalAveragePooling2D\n",
    "import numpy as np\n",
    "import pandas as pd\n",
    "from sklearn.model_selection import train_test_split\n",
    "\n",
    "import matplotlib.pyplot as plt\n",
    "from mpl_toolkits.axes_grid1 import ImageGrid\n",
    "\n",
    "from zipfile import ZipFile\n",
    "import time\n",
    "from datetime import timedelta\n",
    "from io import BytesIO\n",
    "\n",
    "# Image manipulation.\n",
    "import PIL.Image\n",
    "\n",
    "import pickle\n",
    "import os\n",
    "\n",
    "import random\n",
    "from keras.callbacks import ReduceLROnPlateau\n",
    "\n",
    "import matplotlib.pyplot as plt\n",
    "import numpy as np"
   ]
  },
  {
   "cell_type": "code",
   "execution_count": 3,
   "metadata": {
    "colab": {
     "base_uri": "https://localhost:8080/"
    },
    "id": "tFCM4KA2FHSZ",
    "outputId": "ae86c201-e611-40e5-eb38-3f6d7756576e"
   },
   "outputs": [
    {
     "data": {
      "text/plain": [
       "{'0': 'Cassava Bacterial Blight (CBB)',\n",
       " '1': 'Cassava Brown Streak Disease (CBSD)',\n",
       " '2': 'Cassava Green Mottle (CGM)',\n",
       " '3': 'Cassava Mosaic Disease (CMD)',\n",
       " '4': 'Healthy'}"
      ]
     },
     "execution_count": 3,
     "metadata": {},
     "output_type": "execute_result"
    }
   ],
   "source": [
    "f = open('/content/drive/MyDrive/cassava-leaf-disease-classification/label_num_to_disease_map.json')\n",
    "label_name = json.load(f)\n",
    "label_name"
   ]
  },
  {
   "cell_type": "code",
   "execution_count": 4,
   "metadata": {
    "colab": {
     "base_uri": "https://localhost:8080/"
    },
    "id": "4wEnFnSRFN_5",
    "outputId": "33258432-db2b-4b4e-9069-c204d2b73b76"
   },
   "outputs": [
    {
     "name": "stdout",
     "output_type": "stream",
     "text": [
      "Number of replicas: 1\n"
     ]
    }
   ],
   "source": [
    "try:\n",
    "    tpu = tf.distribute.cluster_resolver.TPUClusterResolver()\n",
    "    print('Device:', tpu.master())\n",
    "    tf.config.experimental_connect_to_cluster(tpu)\n",
    "    tf.tpu.experimental.initialize_tpu_system(tpu)\n",
    "    strategy = tf.distribute.experimental.TPUStrategy(tpu)\n",
    "except:\n",
    "    strategy = tf.distribute.get_strategy()\n",
    "print('Number of replicas:', strategy.num_replicas_in_sync)"
   ]
  },
  {
   "cell_type": "code",
   "execution_count": 5,
   "metadata": {
    "colab": {
     "base_uri": "https://localhost:8080/"
    },
    "id": "ovvX3Rf4Ff2Q",
    "outputId": "61959cca-8614-4789-c60a-a374814cbd7e"
   },
   "outputs": [
    {
     "data": {
      "text/plain": [
       "16"
      ]
     },
     "execution_count": 5,
     "metadata": {},
     "output_type": "execute_result"
    }
   ],
   "source": [
    "AUTOTUNE = tf.data.experimental.AUTOTUNE\n",
    "Batch_Size = 16 * strategy.num_replicas_in_sync\n",
    "Batch_Size "
   ]
  },
  {
   "cell_type": "code",
   "execution_count": 6,
   "metadata": {
    "id": "VcJMdjwDFihU"
   },
   "outputs": [],
   "source": [
    "labels = list(label_name.keys())\n",
    "# AUTOTUNE = tf.data.experimental.AUTOTUNE\n",
    "train_path = '/content/drive/MyDrive/cassava-leaf-disease-classification/train_tfrecords/ld_train*.tfrec'\n",
    "test_path = '/content/drive/MyDrive/cassava-leaf-disease-classification/test_tfrecords/ld_test*.tfrec'\n",
    "Image_Size_Original = [512, 512]\n",
    "image_size = 336"
   ]
  },
  {
   "cell_type": "code",
   "execution_count": 7,
   "metadata": {
    "colab": {
     "base_uri": "https://localhost:8080/"
    },
    "id": "T8sZjb7oFlIb",
    "outputId": "d32852ee-b875-4fd5-faa4-6a5a44d52f2c"
   },
   "outputs": [
    {
     "name": "stdout",
     "output_type": "stream",
     "text": [
      "['0', '1', '2', '3', '4']\n"
     ]
    }
   ],
   "source": [
    "print(labels)"
   ]
  },
  {
   "cell_type": "code",
   "execution_count": 8,
   "metadata": {
    "id": "Yk0Hl9-yFneD"
   },
   "outputs": [],
   "source": [
    "def preprocess_img(img):\n",
    "  img_decode = tf.image.decode_jpeg(img, channels = 3)\n",
    "  img_255 = tf.cast(img_decode, tf.float32)/255.0\n",
    "  img_res = tf.image.resize(img_255, [image_size,image_size])\n",
    "  img_resize = tf.reshape(img_res, [image_size, image_size,3])\n",
    "  return img_resize"
   ]
  },
  {
   "cell_type": "code",
   "execution_count": 9,
   "metadata": {
    "id": "o-gARlO8FpOe"
   },
   "outputs": [],
   "source": [
    "def read_tfrecord(example, labeled):\n",
    "  tfrecord_format = {\"image\":tf.io.FixedLenFeature([], tf.string),\n",
    "                     \"target\":tf.io.FixedLenFeature([], tf.int64),\n",
    "                     } if labeled else {\n",
    "                     \"image\": tf.io.FixedLenFeature([], tf.string),\n",
    "                     \"image_name\": tf.io.FixedLenFeature([], tf.string)\n",
    "                     }\n",
    "  example = tf.io.parse_single_example(example, tfrecord_format)\n",
    "  \n",
    "  img_res = preprocess_img(example['image'])\n",
    "  \n",
    "  if labeled:\n",
    "    label = tf.cast(example['target'], tf.int32)\n",
    "    return img_res, label\n",
    "  else: \n",
    "    id = example['image_name']\n",
    "    return img_res, id"
   ]
  },
  {
   "cell_type": "code",
   "execution_count": 10,
   "metadata": {
    "id": "xJI3TCdPFsim"
   },
   "outputs": [],
   "source": [
    "def load_dataset(filenames, labeled=True, ordered=False):\n",
    "    ignore_order = tf.data.Options()\n",
    "    if not ordered:\n",
    "        ignore_order.experimental_deterministic = False # disable order, increase speed\n",
    "    dataset = tf.data.TFRecordDataset(filenames, num_parallel_reads=AUTOTUNE) # automatically interleaves reads from multiple files\n",
    "    dataset = dataset.with_options(ignore_order) # uses data as soon as it streams in, rather than in its original order\n",
    "    dataset = dataset.map(partial(read_tfrecord, labeled=labeled), num_parallel_calls=AUTOTUNE)\n",
    "    return dataset"
   ]
  },
  {
   "cell_type": "code",
   "execution_count": 11,
   "metadata": {
    "colab": {
     "base_uri": "https://localhost:8080/"
    },
    "id": "eO-OUit8Fu5v",
    "outputId": "08066f0e-4ff8-43d1-dfe0-88704168875f"
   },
   "outputs": [
    {
     "data": {
      "text/plain": [
       "(['/content/drive/MyDrive/cassava-leaf-disease-classification/train_tfrecords/ld_train00-1338.tfrec',\n",
       "  '/content/drive/MyDrive/cassava-leaf-disease-classification/train_tfrecords/ld_train01-1338.tfrec',\n",
       "  '/content/drive/MyDrive/cassava-leaf-disease-classification/train_tfrecords/ld_train02-1338.tfrec',\n",
       "  '/content/drive/MyDrive/cassava-leaf-disease-classification/train_tfrecords/ld_train03-1338.tfrec',\n",
       "  '/content/drive/MyDrive/cassava-leaf-disease-classification/train_tfrecords/ld_train04-1338.tfrec',\n",
       "  '/content/drive/MyDrive/cassava-leaf-disease-classification/train_tfrecords/ld_train05-1338.tfrec',\n",
       "  '/content/drive/MyDrive/cassava-leaf-disease-classification/train_tfrecords/ld_train06-1338.tfrec',\n",
       "  '/content/drive/MyDrive/cassava-leaf-disease-classification/train_tfrecords/ld_train07-1338.tfrec',\n",
       "  '/content/drive/MyDrive/cassava-leaf-disease-classification/train_tfrecords/ld_train08-1338.tfrec',\n",
       "  '/content/drive/MyDrive/cassava-leaf-disease-classification/train_tfrecords/ld_train09-1338.tfrec',\n",
       "  '/content/drive/MyDrive/cassava-leaf-disease-classification/train_tfrecords/ld_train10-1338.tfrec',\n",
       "  '/content/drive/MyDrive/cassava-leaf-disease-classification/train_tfrecords/ld_train11-1338.tfrec',\n",
       "  '/content/drive/MyDrive/cassava-leaf-disease-classification/train_tfrecords/ld_train12-1338.tfrec',\n",
       "  '/content/drive/MyDrive/cassava-leaf-disease-classification/train_tfrecords/ld_train13-1338.tfrec',\n",
       "  '/content/drive/MyDrive/cassava-leaf-disease-classification/train_tfrecords/ld_train14-1338.tfrec',\n",
       "  '/content/drive/MyDrive/cassava-leaf-disease-classification/train_tfrecords/ld_train15-1327.tfrec'],\n",
       " ['/content/drive/MyDrive/cassava-leaf-disease-classification/test_tfrecords/ld_test00-1.tfrec'])"
      ]
     },
     "execution_count": 11,
     "metadata": {},
     "output_type": "execute_result"
    }
   ],
   "source": [
    "train_list = tf.io.gfile.glob(train_path)\n",
    "test_list = tf.io.gfile.glob(test_path)\n",
    "train_list, test_list"
   ]
  },
  {
   "cell_type": "code",
   "execution_count": 12,
   "metadata": {
    "id": "P8a65GNnGG19"
   },
   "outputs": [],
   "source": [
    "df_training, df_validation = train_test_split(train_list,\n",
    "                                              test_size=0.2, random_state=42)\n",
    "df_testing = tf.io.gfile.glob(test_list)"
   ]
  },
  {
   "cell_type": "code",
   "execution_count": 13,
   "metadata": {
    "colab": {
     "base_uri": "https://localhost:8080/"
    },
    "id": "aZI8xmdGGKGh",
    "outputId": "49212186-cb9b-40af-f23f-6231837f0d54"
   },
   "outputs": [
    {
     "data": {
      "text/plain": [
       "(12, 4, 1)"
      ]
     },
     "execution_count": 13,
     "metadata": {},
     "output_type": "execute_result"
    }
   ],
   "source": [
    "len(df_training), len(df_validation), len(df_testing)"
   ]
  },
  {
   "cell_type": "code",
   "execution_count": 14,
   "metadata": {
    "colab": {
     "base_uri": "https://localhost:8080/"
    },
    "id": "zZ3ffDCUGMKV",
    "outputId": "083a8d08-c669-461e-8d4c-ac670d912877"
   },
   "outputs": [
    {
     "data": {
      "text/plain": [
       "(['/content/drive/MyDrive/cassava-leaf-disease-classification/train_tfrecords/ld_train13-1338.tfrec',\n",
       "  '/content/drive/MyDrive/cassava-leaf-disease-classification/train_tfrecords/ld_train11-1338.tfrec',\n",
       "  '/content/drive/MyDrive/cassava-leaf-disease-classification/train_tfrecords/ld_train08-1338.tfrec',\n",
       "  '/content/drive/MyDrive/cassava-leaf-disease-classification/train_tfrecords/ld_train09-1338.tfrec',\n",
       "  '/content/drive/MyDrive/cassava-leaf-disease-classification/train_tfrecords/ld_train02-1338.tfrec',\n",
       "  '/content/drive/MyDrive/cassava-leaf-disease-classification/train_tfrecords/ld_train15-1327.tfrec',\n",
       "  '/content/drive/MyDrive/cassava-leaf-disease-classification/train_tfrecords/ld_train04-1338.tfrec',\n",
       "  '/content/drive/MyDrive/cassava-leaf-disease-classification/train_tfrecords/ld_train07-1338.tfrec',\n",
       "  '/content/drive/MyDrive/cassava-leaf-disease-classification/train_tfrecords/ld_train10-1338.tfrec',\n",
       "  '/content/drive/MyDrive/cassava-leaf-disease-classification/train_tfrecords/ld_train12-1338.tfrec',\n",
       "  '/content/drive/MyDrive/cassava-leaf-disease-classification/train_tfrecords/ld_train03-1338.tfrec',\n",
       "  '/content/drive/MyDrive/cassava-leaf-disease-classification/train_tfrecords/ld_train06-1338.tfrec'],\n",
       " ['/content/drive/MyDrive/cassava-leaf-disease-classification/train_tfrecords/ld_train00-1338.tfrec',\n",
       "  '/content/drive/MyDrive/cassava-leaf-disease-classification/train_tfrecords/ld_train01-1338.tfrec',\n",
       "  '/content/drive/MyDrive/cassava-leaf-disease-classification/train_tfrecords/ld_train05-1338.tfrec',\n",
       "  '/content/drive/MyDrive/cassava-leaf-disease-classification/train_tfrecords/ld_train14-1338.tfrec'],\n",
       " ['/content/drive/MyDrive/cassava-leaf-disease-classification/test_tfrecords/ld_test00-1.tfrec'])"
      ]
     },
     "execution_count": 14,
     "metadata": {},
     "output_type": "execute_result"
    }
   ],
   "source": [
    "df_training, df_validation, df_testing"
   ]
  },
  {
   "cell_type": "code",
   "execution_count": 15,
   "metadata": {
    "id": "QsvPGVx5GOQ7"
   },
   "outputs": [],
   "source": [
    "def train_augmentation(image, label):\n",
    "    # image_augmentation \n",
    "    # image = tf.image.random_flip_left_right(image)\n",
    "    # image = tf.image.random_flip_up_down(image)\n",
    "    # image = tf.image.random_hue(image, 0.2)\n",
    "    # image = tf.image.random_crop(image,[image_size, image_size, 3])\n",
    "    # image = tf.image.random_brightness(image, max_delta = 0.5)\n",
    "    # image = tf.image.random_saturation(image, lower = 5, upper = 10)\n",
    "    # image = tf.image.random_contrast(image, 0.2, 0.5)\n",
    "    # image = tf.image.random_jpeg_quality(image, 75, 95)\n",
    "    return image, label"
   ]
  },
  {
   "cell_type": "code",
   "execution_count": 16,
   "metadata": {
    "id": "BzXXra6_GRfk"
   },
   "outputs": [],
   "source": [
    "def get_training_dataset():\n",
    "    df_train = load_dataset(df_training, labeled=True)  \n",
    "    df_train = df_train.map(train_augmentation, num_parallel_calls=AUTOTUNE)  \n",
    "    df_train = df_train.repeat()\n",
    "    df_train = df_train.shuffle(2048)\n",
    "    df_train = df_train.batch(Batch_Size)\n",
    "    df_train = df_train.prefetch(AUTOTUNE) \n",
    "    return df_train"
   ]
  },
  {
   "cell_type": "code",
   "execution_count": 17,
   "metadata": {
    "id": "1jLFRUTqGUFL"
   },
   "outputs": [],
   "source": [
    "def get_validation_dataset(ordered=False):\n",
    "    df_valid = load_dataset(df_validation, labeled=True, ordered=ordered) \n",
    "    df_valid = df_valid.batch(Batch_Size)\n",
    "    df_valid = df_valid.cache()\n",
    "    df_valid = df_valid.prefetch(AUTOTUNE)\n",
    "    return df_valid"
   ]
  },
  {
   "cell_type": "code",
   "execution_count": 18,
   "metadata": {
    "id": "2hSTpwGrGWhU"
   },
   "outputs": [],
   "source": [
    "def get_test_dataset(ordered=False):\n",
    "    df_test = load_dataset(df_testing, labeled=False, ordered=ordered)\n",
    "    df_test = df_test.batch(Batch_Size)\n",
    "    df_test = df_test.prefetch(AUTOTUNE)\n",
    "    return df_test"
   ]
  },
  {
   "cell_type": "code",
   "execution_count": 19,
   "metadata": {
    "id": "4gRmNNk_GYu6"
   },
   "outputs": [],
   "source": [
    "def counting(filenames):\n",
    "    n = [int(re.compile(r\"-([0-9]*)\\.\").search(filename).group(1)) for filename in filenames]\n",
    "    return np.sum(n)"
   ]
  },
  {
   "cell_type": "code",
   "execution_count": 20,
   "metadata": {
    "colab": {
     "base_uri": "https://localhost:8080/"
    },
    "id": "nGPZ4UYqGbDN",
    "outputId": "96c1f42b-9173-48fb-d863-5917b682c265"
   },
   "outputs": [
    {
     "name": "stdout",
     "output_type": "stream",
     "text": [
      "This Dataset: 16045 training images, 5352 validation images, 1 (unlabeled) test images\n"
     ]
    }
   ],
   "source": [
    "num_training = counting(df_training)\n",
    "num_valid = counting(df_validation)\n",
    "num_test = counting(df_testing)\n",
    "\n",
    "print('This Dataset: {} training images, {} validation images, {} (unlabeled) test images'.format(\n",
    "    num_training, num_valid, num_test))"
   ]
  },
  {
   "cell_type": "code",
   "execution_count": 21,
   "metadata": {
    "id": "LOWkwLbdGc4h"
   },
   "outputs": [],
   "source": [
    "df_train = get_training_dataset()\n",
    "df_valid = get_validation_dataset()\n",
    "df_test = get_test_dataset()"
   ]
  },
  {
   "cell_type": "code",
   "execution_count": 22,
   "metadata": {
    "colab": {
     "base_uri": "https://localhost:8080/"
    },
    "id": "sxOnxHsbGfTy",
    "outputId": "a109e876-970d-4027-f9fa-c9162abfd006"
   },
   "outputs": [
    {
     "data": {
      "text/plain": [
       "(<PrefetchDataset element_spec=(TensorSpec(shape=(None, 336, 336, 3), dtype=tf.float32, name=None), TensorSpec(shape=(None,), dtype=tf.int32, name=None))>,\n",
       " <PrefetchDataset element_spec=(TensorSpec(shape=(None, 336, 336, 3), dtype=tf.float32, name=None), TensorSpec(shape=(None,), dtype=tf.int32, name=None))>,\n",
       " <PrefetchDataset element_spec=(TensorSpec(shape=(None, 336, 336, 3), dtype=tf.float32, name=None), TensorSpec(shape=(None,), dtype=tf.string, name=None))>)"
      ]
     },
     "execution_count": 22,
     "metadata": {},
     "output_type": "execute_result"
    }
   ],
   "source": [
    "df_train, df_valid, df_test"
   ]
  },
  {
   "cell_type": "code",
   "execution_count": 23,
   "metadata": {
    "colab": {
     "base_uri": "https://localhost:8080/"
    },
    "id": "lVnsnj-3GhJp",
    "outputId": "74b60111-6fa9-4a3e-a952-11e3ce014444"
   },
   "outputs": [
    {
     "name": "stdout",
     "output_type": "stream",
     "text": [
      "Training dataset:\n",
      "(16, 336, 336, 3) (16,)\n",
      "Training dataset labels: [3 3 3 0 3 3 3 3 3 4 3 3 3 4 2 3]\n",
      "(16, 336, 336, 3) (16,)\n",
      "Training dataset labels: [3 3 3 4 3 3 3 3 3 4 0 0 3 3 4 3]\n",
      "(16, 336, 336, 3) (16,)\n",
      "Training dataset labels: [3 1 3 2 3 3 3 3 3 3 2 3 3 3 3 4]\n",
      "Validation dataset:\n",
      "(16, 336, 336, 3) (16,)\n",
      "Validation dataset labels: [0 3 1 1 3 3 2 0 4 3 3 3 1 3 3 2]\n",
      "(16, 336, 336, 3) (16,)\n",
      "Validation dataset labels: [3 4 0 3 3 3 1 3 2 2 3 3 2 2 4 3]\n",
      "(16, 336, 336, 3) (16,)\n",
      "Validation dataset labels: [3 3 3 3 3 3 3 3 3 1 1 3 3 3 3 4]\n",
      "Test dataset:\n",
      "(1, 336, 336, 3) (1,)\n",
      "Test data IDs: ['2216849948.jpg']\n"
     ]
    }
   ],
   "source": [
    "print(\"Training dataset:\")\n",
    "for image, label in df_train.take(3):\n",
    "    print(image.numpy().shape, label.numpy().shape)\n",
    "    print(\"Training dataset labels:\", label.numpy())\n",
    "print(\"Validation dataset:\")\n",
    "for image, label in df_valid.take(3):\n",
    "    print(image.numpy().shape, label.numpy().shape)\n",
    "    print(\"Validation dataset labels:\", label.numpy())\n",
    "print(\"Test dataset:\")\n",
    "for image, idnum in df_test.take(3):\n",
    "    print(image.numpy().shape, idnum.numpy().shape)\n",
    "    print(\"Test data IDs:\", idnum.numpy().astype('U'))"
   ]
  },
  {
   "cell_type": "code",
   "execution_count": 24,
   "metadata": {
    "id": "X8hMex7vGkDP"
   },
   "outputs": [],
   "source": [
    "data_augmentation = tf.keras.Sequential([\n",
    "  tf.keras.layers.experimental.preprocessing.RandomFlip(mode='horizontal_and_vertical'),\n",
    "  tf.keras.layers.experimental.preprocessing.RandomRotation(factor=(-0.2,0.2)),\n",
    "  tf.keras.layers.experimental.preprocessing.RandomCrop(height = image_size, width = image_size) # 80%\n",
    "])"
   ]
  },
  {
   "cell_type": "code",
   "execution_count": 25,
   "metadata": {
    "colab": {
     "base_uri": "https://localhost:8080/"
    },
    "id": "v33Gh3pNGsO7",
    "outputId": "805c9365-2872-4841-ba18-bf9d205d88df"
   },
   "outputs": [
    {
     "name": "stdout",
     "output_type": "stream",
     "text": [
      "Downloading data from https://storage.googleapis.com/tensorflow/keras-applications/vgg16/vgg16_weights_tf_dim_ordering_tf_kernels_notop.h5\n",
      "58892288/58889256 [==============================] - 0s 0us/step\n",
      "58900480/58889256 [==============================] - 0s 0us/step\n"
     ]
    }
   ],
   "source": [
    "from keras.applications.vgg16 import VGG16\n",
    "\n",
    "def create_vgg():\n",
    "  inputshape = (image_size, image_size, 3)\n",
    "  inputs = tf.keras.Input(shape=inputshape)\n",
    "  x = data_augmentation(inputs)\n",
    "\n",
    "  base_model = VGG16(include_top = False, input_shape = inputshape, weights=\"imagenet\")\n",
    "\n",
    "  x = base_model(x)\n",
    "\n",
    "  model = Flatten()(x)\n",
    "  model = Dense(256, activation='relu')(model)\n",
    "  model = Dropout(0.5)(model)\n",
    "\n",
    "  model = Dense(128, activation='relu')(model)\n",
    "  model = Dropout(0.5)(model)\n",
    "\n",
    "  out = Dense(5, activation='softmax')(model)\n",
    "  \n",
    "  model = Model(inputs = inputs, outputs = out)\n",
    "  return model\n",
    "\n",
    "model_vgg = create_vgg()"
   ]
  },
  {
   "cell_type": "code",
   "execution_count": 26,
   "metadata": {
    "id": "Rc53t2mDGwpV"
   },
   "outputs": [],
   "source": [
    "opt = tf.keras.optimizers.Nadam(learning_rate = 1e-5)\n",
    "model_vgg.compile(loss=\"sparse_categorical_crossentropy\", optimizer=opt, metrics=[\"accuracy\"])"
   ]
  },
  {
   "cell_type": "code",
   "execution_count": 27,
   "metadata": {
    "id": "UFXdHQyoG7eM"
   },
   "outputs": [],
   "source": [
    "es = tf.keras.callbacks.EarlyStopping(monitor='val_accuracy', mode='max', verbose=1, patience=5, restore_best_weights = True)"
   ]
  },
  {
   "cell_type": "code",
   "execution_count": 28,
   "metadata": {
    "colab": {
     "base_uri": "https://localhost:8080/"
    },
    "id": "_oSvPvcvG90h",
    "outputId": "1b65afae-ef23-4a8c-d977-0013cc00ca01"
   },
   "outputs": [
    {
     "name": "stdout",
     "output_type": "stream",
     "text": [
      "Epoch 1/20\n",
      "250/250 [==============================] - 176s 599ms/step - loss: 1.1917 - accuracy: 0.5885 - val_loss: 0.8991 - val_accuracy: 0.6634\n",
      "Epoch 2/20\n",
      "250/250 [==============================] - 154s 615ms/step - loss: 1.0080 - accuracy: 0.6388 - val_loss: 0.8744 - val_accuracy: 0.6883\n",
      "Epoch 3/20\n",
      "250/250 [==============================] - 153s 614ms/step - loss: 0.9641 - accuracy: 0.6455 - val_loss: 0.8411 - val_accuracy: 0.6980\n",
      "Epoch 4/20\n",
      "250/250 [==============================] - 154s 615ms/step - loss: 0.9000 - accuracy: 0.6735 - val_loss: 0.7766 - val_accuracy: 0.7108\n",
      "Epoch 5/20\n",
      "250/250 [==============================] - 153s 612ms/step - loss: 0.8392 - accuracy: 0.6902 - val_loss: 1.1942 - val_accuracy: 0.5422\n",
      "Epoch 6/20\n",
      "250/250 [==============================] - 153s 613ms/step - loss: 0.8148 - accuracy: 0.6952 - val_loss: 0.6307 - val_accuracy: 0.7831\n",
      "Epoch 7/20\n",
      "250/250 [==============================] - 153s 614ms/step - loss: 0.7634 - accuracy: 0.7260 - val_loss: 0.5832 - val_accuracy: 0.7922\n",
      "Epoch 8/20\n",
      "250/250 [==============================] - 153s 613ms/step - loss: 0.7026 - accuracy: 0.7552 - val_loss: 0.5927 - val_accuracy: 0.7861\n",
      "Epoch 9/20\n",
      "250/250 [==============================] - 153s 614ms/step - loss: 0.6708 - accuracy: 0.7728 - val_loss: 0.5580 - val_accuracy: 0.8020\n",
      "Epoch 10/20\n",
      "250/250 [==============================] - 153s 613ms/step - loss: 0.6545 - accuracy: 0.7843 - val_loss: 0.5426 - val_accuracy: 0.8102\n",
      "Epoch 11/20\n",
      "250/250 [==============================] - 153s 613ms/step - loss: 0.6419 - accuracy: 0.7860 - val_loss: 0.5642 - val_accuracy: 0.7959\n",
      "Epoch 12/20\n",
      "250/250 [==============================] - 153s 614ms/step - loss: 0.6286 - accuracy: 0.7840 - val_loss: 0.5154 - val_accuracy: 0.8230\n",
      "Epoch 13/20\n",
      "250/250 [==============================] - 153s 614ms/step - loss: 0.6014 - accuracy: 0.8012 - val_loss: 0.4950 - val_accuracy: 0.8261\n",
      "Epoch 14/20\n",
      "250/250 [==============================] - 153s 613ms/step - loss: 0.5695 - accuracy: 0.8105 - val_loss: 0.4771 - val_accuracy: 0.8245\n",
      "Epoch 15/20\n",
      "250/250 [==============================] - 153s 613ms/step - loss: 0.5777 - accuracy: 0.8108 - val_loss: 0.4829 - val_accuracy: 0.8261\n",
      "Epoch 16/20\n",
      "250/250 [==============================] - 153s 613ms/step - loss: 0.5766 - accuracy: 0.8008 - val_loss: 0.4865 - val_accuracy: 0.8215\n",
      "Epoch 17/20\n",
      "250/250 [==============================] - 154s 615ms/step - loss: 0.5668 - accuracy: 0.8163 - val_loss: 0.4679 - val_accuracy: 0.8328\n",
      "Epoch 18/20\n",
      "250/250 [==============================] - 153s 614ms/step - loss: 0.5726 - accuracy: 0.8070 - val_loss: 0.4736 - val_accuracy: 0.8253\n",
      "Epoch 19/20\n",
      "250/250 [==============================] - 154s 615ms/step - loss: 0.5433 - accuracy: 0.8215 - val_loss: 0.5366 - val_accuracy: 0.8336\n",
      "Epoch 20/20\n",
      "250/250 [==============================] - 153s 613ms/step - loss: 0.5659 - accuracy: 0.8110 - val_loss: 0.4750 - val_accuracy: 0.8268\n"
     ]
    }
   ],
   "source": [
    "Batch_Size = 64\n",
    "steps_per_epoch = num_training // Batch_Size\n",
    "valid_steps = num_valid // Batch_Size\n",
    "history_IR = model_vgg.fit(df_train,steps_per_epoch=steps_per_epoch, \n",
    "                    validation_data=df_valid, validation_steps=valid_steps, epochs=20, callbacks = [es])"
   ]
  },
  {
   "cell_type": "code",
   "execution_count": 30,
   "metadata": {
    "colab": {
     "base_uri": "https://localhost:8080/"
    },
    "id": "vkvFrOCt9r78",
    "outputId": "635fbce3-12c6-4101-8332-19ec7d8ead92"
   },
   "outputs": [
    {
     "name": "stdout",
     "output_type": "stream",
     "text": [
      "Saved trained model at /content/saved_models/VGG_model.h5 \n"
     ]
    }
   ],
   "source": [
    "from keras.models import load_model\n",
    "import os\n",
    "def save_model(model, name):\n",
    "  model_name = '{}.h5'.format(name)\n",
    "  save_dir = os.path.join(os.getcwd(), 'saved_models')\n",
    "  \n",
    "  # Save model and weights\n",
    "  if not os.path.isdir(save_dir):\n",
    "      os.makedirs(save_dir)\n",
    "  model_path = os.path.join(save_dir, model_name)\n",
    "  model.save(model_path)\n",
    "  print('Saved trained model at %s ' % model_path)\n",
    "\n",
    "\n",
    "save_model(model_vgg, 'VGG_model')"
   ]
  },
  {
   "cell_type": "code",
   "execution_count": 32,
   "metadata": {
    "colab": {
     "base_uri": "https://localhost:8080/",
     "height": 316
    },
    "id": "KQzRQL6nHBkg",
    "outputId": "eda2e5ba-2c28-44a1-98bb-801bae236c62"
   },
   "outputs": [
    {
     "data": {
      "text/plain": [
       "<matplotlib.legend.Legend at 0x7f352fefd3d0>"
      ]
     },
     "execution_count": 32,
     "metadata": {},
     "output_type": "execute_result"
    },
    {
     "data": {
      "image/png": "[encoded data removed]",
      "text/plain": [
       "<Figure size 432x288 with 1 Axes>"
      ]
     },
     "metadata": {},
     "output_type": "display_data"
    }
   ],
   "source": [
    "N = 20\n",
    "plt.style.use(\"ggplot\")\n",
    "plt.figure()\n",
    "plt.plot(np.arange(0, N), history_IR.history[\"accuracy\"], label=\"Train Accuracy\")\n",
    "plt.plot(np.arange(0, N), history_IR.history[\"val_accuracy\"], label=\"Validation Accuracy\")\n",
    "\n",
    "plt.title(\"Loss and Accuracy Plot\")\n",
    "plt.xlabel(\"Epoch\")\n",
    "plt.legend(bbox_to_anchor=(1.05, 1.0), loc='upper left')"
   ]
  },
  {
   "cell_type": "code",
   "execution_count": 33,
   "metadata": {
    "colab": {
     "base_uri": "https://localhost:8080/",
     "height": 316
    },
    "id": "L8zjg8LKiCal",
    "outputId": "64652a75-5e69-4d1f-9aaf-da0fe4e96abf"
   },
   "outputs": [
    {
     "data": {
      "text/plain": [
       "<matplotlib.legend.Legend at 0x7f352fed7c50>"
      ]
     },
     "execution_count": 33,
     "metadata": {},
     "output_type": "execute_result"
    },
    {
     "data": {
      "image/png": "[encoded data removed]",
      "text/plain": [
       "<Figure size 432x288 with 1 Axes>"
      ]
     },
     "metadata": {},
     "output_type": "display_data"
    }
   ],
   "source": [
    "plt.style.use(\"ggplot\")\n",
    "plt.figure()\n",
    "plt.plot(np.arange(0, N), history_IR.history[\"loss\"], label=\"Train Loss\")\n",
    "plt.plot(np.arange(0, N), history_IR.history[\"val_loss\"], label=\"Validation Loss\")\n",
    "plt.title(\"Loss and Accuracy Plot\")\n",
    "plt.xlabel(\"Epoch\")\n",
    "plt.legend(bbox_to_anchor=(1.05, 1.0), loc='upper left')"
   ]
  },
  {
   "cell_type": "code",
   "execution_count": null,
   "metadata": {
    "id": "F_n_uavT-O13"
   },
   "outputs": [],
   "source": []
  }
 ],
 "metadata": {
  "accelerator": "GPU",
  "colab": {
   "collapsed_sections": [],
   "name": "Copy of ML_Project.ipynb",
   "provenance": []
  },
  "kernelspec": {
   "display_name": "Python 3 (ipykernel)",
   "language": "python",
   "name": "python3"
  },
  "language_info": {
   "codemirror_mode": {
    "name": "ipython",
    "version": 3
   },
   "file_extension": ".py",
   "mimetype": "text/x-python",
   "name": "python",
   "nbconvert_exporter": "python",
   "pygments_lexer": "ipython3",
   "version": "3.9.7"
  }
 },
 "nbformat": 4,
 "nbformat_minor": 1
}
