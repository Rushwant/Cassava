{
 "cells": [
  {
   "cell_type": "code",
   "execution_count": 1,
   "metadata": {
    "colab": {
     "base_uri": "https://localhost:8080/"
    },
    "id": "xOCIJy1wVf0X",
    "outputId": "2ae35560-b350-4e77-b791-efcf540bd525"
   },
   "outputs": [
    {
     "name": "stdout",
     "output_type": "stream",
     "text": [
      "Mounted at /content/drive\n"
     ]
    }
   ],
   "source": [
    "from google.colab import drive\n",
    "drive.mount('/content/drive')"
   ]
  },
  {
   "cell_type": "code",
   "execution_count": 24,
   "metadata": {
    "id": "MYV5l2aNWKNk"
   },
   "outputs": [],
   "source": [
    "import pandas as pd\n",
    "import glob\n",
    "import keras\n",
    "import time\n",
    "import PIL.Image\n",
    "import pickle\n",
    "import os\n",
    "import random\n",
    "import matplotlib.pyplot as plt\n",
    "from keras.layers import Dense, Dropout, Input, MaxPooling2D, ZeroPadding2D, Conv2D, Flatten\n",
    "from keras.models import Sequential, Model\n",
    "from keras.losses import categorical_crossentropy\n",
    "from tensorflow.keras.optimizers import Adam, SGD\n",
    "from keras.preprocessing.image import img_to_array, load_img, ImageDataGenerator\n",
    "from tensorflow.keras.utils import to_categorical\n",
    "from tensorflow.keras import regularizers\n",
    "import tensorflow as tf\n",
    "from tensorflow.keras.layers import MaxPool2D, AveragePooling2D, GlobalAveragePooling2D\n",
    "import numpy as np\n",
    "from sklearn.model_selection import train_test_split\n",
    "from mpl_toolkits.axes_grid1 import ImageGrid\n",
    "from zipfile import ZipFile\n",
    "from datetime import timedelta\n",
    "from io import BytesIO"
   ]
  },
  {
   "cell_type": "code",
   "execution_count": 6,
   "metadata": {
    "id": "VZgVYGjFWhy0"
   },
   "outputs": [],
   "source": [
    "train_labels = pd.read_csv('/content/drive/MyDrive/cassava-leaf-disease-classification/train.csv')"
   ]
  },
  {
   "cell_type": "code",
   "execution_count": 7,
   "metadata": {
    "colab": {
     "base_uri": "https://localhost:8080/"
    },
    "id": "vPRqh_WpVwbp",
    "outputId": "056986f5-97fb-4b80-864e-8b61049473f9"
   },
   "outputs": [
    {
     "name": "stdout",
     "output_type": "stream",
     "text": [
      "train: 16\n",
      "test: 1\n"
     ]
    }
   ],
   "source": [
    "csv_df = pd.read_csv('/content/drive/MyDrive/cassava-leaf-disease-classification/train.csv')\n",
    "train_dir = '/content/drive/MyDrive/cassava-leaf-disease-classification/train_tfrecords/*'\n",
    "test_dir = '/content/drive/MyDrive/cassava-leaf-disease-classification/test_tfrecords/*'\n",
    "train_list = glob.glob(train_dir)\n",
    "test_list = glob.glob(test_dir)\n",
    "print(\"train: \" + str(len(train_list)) + \"\\ntest: \" + str(len(test_list)))"
   ]
  },
  {
   "cell_type": "code",
   "execution_count": 8,
   "metadata": {
    "colab": {
     "base_uri": "https://localhost:8080/",
     "height": 206
    },
    "id": "MG_pEYRXWWws",
    "outputId": "b662e68c-c966-42cf-cc66-2d13dc92eaae"
   },
   "outputs": [
    {
     "data": {
      "text/html": [
       "\n",
       "  <div id=\"df-ced1e0a9-e48b-4c10-a4eb-ab745ca48e3d\">\n",
       "    <div class=\"colab-df-container\">\n",
       "      <div>\n",
       "<style scoped>\n",
       "    .dataframe tbody tr th:only-of-type {\n",
       "        vertical-align: middle;\n",
       "    }\n",
       "\n",
       "    .dataframe tbody tr th {\n",
       "        vertical-align: top;\n",
       "    }\n",
       "\n",
       "    .dataframe thead th {\n",
       "        text-align: right;\n",
       "    }\n",
       "</style>\n",
       "<table border=\"1\" class=\"dataframe\">\n",
       "  <thead>\n",
       "    <tr style=\"text-align: right;\">\n",
       "      <th></th>\n",
       "      <th>image_id</th>\n",
       "      <th>label</th>\n",
       "    </tr>\n",
       "  </thead>\n",
       "  <tbody>\n",
       "    <tr>\n",
       "      <th>0</th>\n",
       "      <td>1000015157.jpg</td>\n",
       "      <td>0</td>\n",
       "    </tr>\n",
       "    <tr>\n",
       "      <th>1</th>\n",
       "      <td>1000201771.jpg</td>\n",
       "      <td>3</td>\n",
       "    </tr>\n",
       "    <tr>\n",
       "      <th>2</th>\n",
       "      <td>100042118.jpg</td>\n",
       "      <td>1</td>\n",
       "    </tr>\n",
       "    <tr>\n",
       "      <th>3</th>\n",
       "      <td>1000723321.jpg</td>\n",
       "      <td>1</td>\n",
       "    </tr>\n",
       "    <tr>\n",
       "      <th>4</th>\n",
       "      <td>1000812911.jpg</td>\n",
       "      <td>3</td>\n",
       "    </tr>\n",
       "  </tbody>\n",
       "</table>\n",
       "</div>\n",
       "      <button class=\"colab-df-convert\" onclick=\"convertToInteractive('df-ced1e0a9-e48b-4c10-a4eb-ab745ca48e3d')\"\n",
       "              title=\"Convert this dataframe to an interactive table.\"\n",
       "              style=\"display:none;\">\n",
       "        \n",
       "  <svg xmlns=\"http://www.w3.org/2000/svg\" height=\"24px\"viewBox=\"0 0 24 24\"\n",
       "       width=\"24px\">\n",
       "    <path d=\"M0 0h24v24H0V0z\" fill=\"none\"/>\n",
       "    <path d=\"M18.56 5.44l.94 2.06.94-2.06 2.06-.94-2.06-.94-.94-2.06-.94 2.06-2.06.94zm-11 1L8.5 8.5l.94-2.06 2.06-.94-2.06-.94L8.5 2.5l-.94 2.06-2.06.94zm10 10l.94 2.06.94-2.06 2.06-.94-2.06-.94-.94-2.06-.94 2.06-2.06.94z\"/><path d=\"M17.41 7.96l-1.37-1.37c-.4-.4-.92-.59-1.43-.59-.52 0-1.04.2-1.43.59L10.3 9.45l-7.72 7.72c-.78.78-.78 2.05 0 2.83L4 21.41c.39.39.9.59 1.41.59.51 0 1.02-.2 1.41-.59l7.78-7.78 2.81-2.81c.8-.78.8-2.07 0-2.86zM5.41 20L4 18.59l7.72-7.72 1.47 1.35L5.41 20z\"/>\n",
       "  </svg>\n",
       "      </button>\n",
       "      \n",
       "  <style>\n",
       "    .colab-df-container {\n",
       "      display:flex;\n",
       "      flex-wrap:wrap;\n",
       "      gap: 12px;\n",
       "    }\n",
       "\n",
       "    .colab-df-convert {\n",
       "      background-color: #E8F0FE;\n",
       "      border: none;\n",
       "      border-radius: 50%;\n",
       "      cursor: pointer;\n",
       "      display: none;\n",
       "      fill: #1967D2;\n",
       "      height: 32px;\n",
       "      padding: 0 0 0 0;\n",
       "      width: 32px;\n",
       "    }\n",
       "\n",
       "    .colab-df-convert:hover {\n",
       "      background-color: #E2EBFA;\n",
       "      box-shadow: 0px 1px 2px rgba(60, 64, 67, 0.3), 0px 1px 3px 1px rgba(60, 64, 67, 0.15);\n",
       "      fill: #174EA6;\n",
       "    }\n",
       "\n",
       "    [theme=dark] .colab-df-convert {\n",
       "      background-color: #3B4455;\n",
       "      fill: #D2E3FC;\n",
       "    }\n",
       "\n",
       "    [theme=dark] .colab-df-convert:hover {\n",
       "      background-color: #434B5C;\n",
       "      box-shadow: 0px 1px 3px 1px rgba(0, 0, 0, 0.15);\n",
       "      filter: drop-shadow(0px 1px 2px rgba(0, 0, 0, 0.3));\n",
       "      fill: #FFFFFF;\n",
       "    }\n",
       "  </style>\n",
       "\n",
       "      <script>\n",
       "        const buttonEl =\n",
       "          document.querySelector('#df-ced1e0a9-e48b-4c10-a4eb-ab745ca48e3d button.colab-df-convert');\n",
       "        buttonEl.style.display =\n",
       "          google.colab.kernel.accessAllowed ? 'block' : 'none';\n",
       "\n",
       "        async function convertToInteractive(key) {\n",
       "          const element = document.querySelector('#df-ced1e0a9-e48b-4c10-a4eb-ab745ca48e3d');\n",
       "          const dataTable =\n",
       "            await google.colab.kernel.invokeFunction('convertToInteractive',\n",
       "                                                     [key], {});\n",
       "          if (!dataTable) return;\n",
       "\n",
       "          const docLinkHtml = 'Like what you see? Visit the ' +\n",
       "            '<a target=\"_blank\" href=https://colab.research.google.com/notebooks/data_table.ipynb>data table notebook</a>'\n",
       "            + ' to learn more about interactive tables.';\n",
       "          element.innerHTML = '';\n",
       "          dataTable['output_type'] = 'display_data';\n",
       "          await google.colab.output.renderOutput(dataTable, element);\n",
       "          const docLink = document.createElement('div');\n",
       "          docLink.innerHTML = docLinkHtml;\n",
       "          element.appendChild(docLink);\n",
       "        }\n",
       "      </script>\n",
       "    </div>\n",
       "  </div>\n",
       "  "
      ],
      "text/plain": [
       "         image_id  label\n",
       "0  1000015157.jpg      0\n",
       "1  1000201771.jpg      3\n",
       "2   100042118.jpg      1\n",
       "3  1000723321.jpg      1\n",
       "4  1000812911.jpg      3"
      ]
     },
     "execution_count": 8,
     "metadata": {},
     "output_type": "execute_result"
    }
   ],
   "source": [
    "labels = train_labels\n",
    "labels.head()"
   ]
  },
  {
   "cell_type": "code",
   "execution_count": 9,
   "metadata": {
    "id": "sHm9WtklWXXn"
   },
   "outputs": [],
   "source": [
    "labels['label']=labels['label'].astype(str)"
   ]
  },
  {
   "cell_type": "code",
   "execution_count": 13,
   "metadata": {
    "colab": {
     "base_uri": "https://localhost:8080/"
    },
    "id": "vXpOfBECWuMY",
    "outputId": "8f5eadc0-dffd-47f2-ac25-3e157f7a2f62"
   },
   "outputs": [
    {
     "name": "stdout",
     "output_type": "stream",
     "text": [
      "<keras.preprocessing.image.ImageDataGenerator object at 0x7f0d2d2c8c10>\n"
     ]
    }
   ],
   "source": [
    "train_datagen = ImageDataGenerator(rescale=1./225,\n",
    "    rotation_range=40,\n",
    "    width_shift_range=0.2,\n",
    "    height_shift_range=0.2,\n",
    "    shear_range=0.2,\n",
    "    zoom_range=0.2,\n",
    "    validation_split=0.3,\n",
    "    horizontal_flip=True,)\n",
    "\n",
    "print(train_datagen)\n",
    "test_datagen = ImageDataGenerator(rescale=1./255)"
   ]
  },
  {
   "cell_type": "code",
   "execution_count": 14,
   "metadata": {
    "id": "_JfYPIT7XFv6"
   },
   "outputs": [],
   "source": [
    "train_dir = '/content/drive/MyDrive/cassava-leaf-disease-classification/train_images'"
   ]
  },
  {
   "cell_type": "code",
   "execution_count": 15,
   "metadata": {
    "colab": {
     "base_uri": "https://localhost:8080/"
    },
    "id": "eNemWr23XMsg",
    "outputId": "30ae2f9a-1197-48b2-ae39-f424e5655ea5"
   },
   "outputs": [
    {
     "name": "stdout",
     "output_type": "stream",
     "text": [
      "Found 14978 validated image filenames belonging to 5 classes.\n",
      "Found 6419 validated image filenames belonging to 5 classes.\n"
     ]
    }
   ],
   "source": [
    "train_generator = train_datagen.flow_from_dataframe(dataframe=labels,\n",
    "      directory=train_dir,\n",
    "      subset='training',\n",
    "      x_col=\"image_id\",\n",
    "      y_col=\"label\",\n",
    "      shuffle=True,\n",
    "      target_size=(150,150),\n",
    "      batch_size=32,\n",
    "      class_mode='categorical')\n",
    "\n",
    "valid_generator = train_datagen.flow_from_dataframe(dataframe=labels,\n",
    "      directory=train_dir,\n",
    "      subset='validation',\n",
    "      x_col=\"image_id\",\n",
    "      y_col=\"label\",\n",
    "      shuffle=True,\n",
    "      target_size=(150,150),\n",
    "      batch_size=32,\n",
    "      class_mode='categorical')"
   ]
  },
  {
   "cell_type": "code",
   "execution_count": 25,
   "metadata": {
    "id": "lUUFw2DnXTM2"
   },
   "outputs": [],
   "source": [
    "def make_model_1():\n",
    "    inputs = Input(shape = (150,150,3))\n",
    "    model = Conv2D(filters=32, kernel_size=(3, 3),activation='softmax', input_shape=(150,150,3))(inputs)\n",
    "    model = MaxPool2D(pool_size=(2, 2))(model)\n",
    "    model = Conv2D(filters=64, kernel_size=(3, 3), activation='softmax')(model)\n",
    "    model = MaxPool2D(pool_size=(2, 2))(model)\n",
    "    model = Conv2D(filters=128, kernel_size=(3, 3), activation='softmax')(model)\n",
    "    model = MaxPool2D(pool_size=(2, 2))(model)\n",
    "    model = Flatten()(model)\n",
    "    model = Dense(512, activation = \"relu\")(model)\n",
    "    out = Dense(5, activation = 'softmax')(model)\n",
    "    model = Model(inputs=inputs, outputs=out)\n",
    "    \n",
    "    model.compile(loss='categorical_crossentropy',\n",
    "              optimizer=tf.keras.optimizers.Adam(),\n",
    "              metrics=['acc'])\n",
    "    return model"
   ]
  },
  {
   "cell_type": "code",
   "execution_count": 26,
   "metadata": {
    "colab": {
     "base_uri": "https://localhost:8080/"
    },
    "id": "2E86eL-pXWqh",
    "outputId": "45f2ebbe-c362-4de2-f39c-5fa6b782e3c2"
   },
   "outputs": [
    {
     "name": "stdout",
     "output_type": "stream",
     "text": [
      "Model: \"model_4\"\n",
      "_________________________________________________________________\n",
      " Layer (type)                Output Shape              Param #   \n",
      "=================================================================\n",
      " input_5 (InputLayer)        [(None, 150, 150, 3)]     0         \n",
      "                                                                 \n",
      " conv2d_12 (Conv2D)          (None, 148, 148, 32)      896       \n",
      "                                                                 \n",
      " max_pooling2d_12 (MaxPoolin  (None, 74, 74, 32)       0         \n",
      " g2D)                                                            \n",
      "                                                                 \n",
      " conv2d_13 (Conv2D)          (None, 72, 72, 64)        18496     \n",
      "                                                                 \n",
      " max_pooling2d_13 (MaxPoolin  (None, 36, 36, 64)       0         \n",
      " g2D)                                                            \n",
      "                                                                 \n",
      " conv2d_14 (Conv2D)          (None, 34, 34, 128)       73856     \n",
      "                                                                 \n",
      " max_pooling2d_14 (MaxPoolin  (None, 17, 17, 128)      0         \n",
      " g2D)                                                            \n",
      "                                                                 \n",
      " flatten_4 (Flatten)         (None, 36992)             0         \n",
      "                                                                 \n",
      " dense_8 (Dense)             (None, 512)               18940416  \n",
      "                                                                 \n",
      " dense_9 (Dense)             (None, 5)                 2565      \n",
      "                                                                 \n",
      "=================================================================\n",
      "Total params: 19,036,229\n",
      "Trainable params: 19,036,229\n",
      "Non-trainable params: 0\n",
      "_________________________________________________________________\n",
      "None\n"
     ]
    }
   ],
   "source": [
    "model = make_model_1()\n",
    "print(model.summary())"
   ]
  },
  {
   "cell_type": "code",
   "execution_count": 30,
   "metadata": {
    "colab": {
     "base_uri": "https://localhost:8080/"
    },
    "id": "N5QqdmLiYqrg",
    "outputId": "fe1f7c35-f489-47e0-d272-0a9ebff81067"
   },
   "outputs": [
    {
     "name": "stdout",
     "output_type": "stream",
     "text": [
      "Epoch 1/20\n",
      "20/20 [==============================] - 183s 9s/step - loss: 1.2076 - acc: 0.6094 - val_loss: 1.1396 - val_acc: 0.6313\n",
      "Epoch 2/20\n",
      "20/20 [==============================] - 201s 10s/step - loss: 1.2498 - acc: 0.6000 - val_loss: 1.2435 - val_acc: 0.5891\n",
      "Epoch 3/20\n",
      "20/20 [==============================] - 190s 10s/step - loss: 1.1647 - acc: 0.6234 - val_loss: 1.2079 - val_acc: 0.6172\n",
      "Epoch 4/20\n",
      "20/20 [==============================] - 179s 9s/step - loss: 1.1883 - acc: 0.6187 - val_loss: 1.2103 - val_acc: 0.6125\n",
      "Epoch 5/20\n",
      "20/20 [==============================] - 169s 9s/step - loss: 1.1763 - acc: 0.6266 - val_loss: 1.1672 - val_acc: 0.6266\n",
      "Epoch 6/20\n",
      "20/20 [==============================] - 162s 8s/step - loss: 1.1796 - acc: 0.6203 - val_loss: 1.2082 - val_acc: 0.6094\n",
      "Epoch 7/20\n",
      "20/20 [==============================] - 149s 8s/step - loss: 1.1951 - acc: 0.6156 - val_loss: 1.1501 - val_acc: 0.6281\n",
      "Epoch 8/20\n",
      "20/20 [==============================] - 145s 7s/step - loss: 1.1872 - acc: 0.6187 - val_loss: 1.1541 - val_acc: 0.6266\n",
      "Epoch 9/20\n",
      "20/20 [==============================] - 130s 7s/step - loss: 1.1557 - acc: 0.6359 - val_loss: 1.1832 - val_acc: 0.6250\n",
      "Epoch 10/20\n",
      "20/20 [==============================] - 133s 7s/step - loss: 1.2373 - acc: 0.5922 - val_loss: 1.2416 - val_acc: 0.5781\n",
      "Epoch 11/20\n",
      "20/20 [==============================] - 121s 6s/step - loss: 1.1745 - acc: 0.6203 - val_loss: 1.1734 - val_acc: 0.6172\n",
      "Epoch 12/20\n",
      "20/20 [==============================] - 121s 6s/step - loss: 1.2025 - acc: 0.6109 - val_loss: 1.2138 - val_acc: 0.5969\n",
      "Epoch 13/20\n",
      "20/20 [==============================] - 109s 6s/step - loss: 1.1912 - acc: 0.6156 - val_loss: 1.1607 - val_acc: 0.6234\n",
      "Epoch 14/20\n",
      "20/20 [==============================] - 112s 6s/step - loss: 1.2112 - acc: 0.6016 - val_loss: 1.1272 - val_acc: 0.6484\n",
      "Epoch 15/20\n",
      "20/20 [==============================] - 107s 5s/step - loss: 1.1826 - acc: 0.6234 - val_loss: 1.2217 - val_acc: 0.6000\n",
      "Epoch 16/20\n",
      "20/20 [==============================] - 104s 5s/step - loss: 1.1829 - acc: 0.6219 - val_loss: 1.2091 - val_acc: 0.6031\n",
      "Epoch 17/20\n",
      "20/20 [==============================] - 98s 5s/step - loss: 1.2810 - acc: 0.5625 - val_loss: 1.1755 - val_acc: 0.6250\n",
      "Epoch 18/20\n",
      "20/20 [==============================] - 98s 5s/step - loss: 1.2683 - acc: 0.5766 - val_loss: 1.1806 - val_acc: 0.6266\n",
      "Epoch 19/20\n",
      "20/20 [==============================] - 89s 4s/step - loss: 1.2102 - acc: 0.6016 - val_loss: 1.1503 - val_acc: 0.6313\n",
      "Epoch 20/20\n",
      "20/20 [==============================] - 87s 4s/step - loss: 1.2133 - acc: 0.6047 - val_loss: 1.1112 - val_acc: 0.6531\n"
     ]
    }
   ],
   "source": [
    "history = model.fit(train_generator,steps_per_epoch=20,\n",
    "                    validation_data=valid_generator,validation_steps=20,\n",
    "                     epochs=20)"
   ]
  }
 ],
 "metadata": {
  "colab": {
   "collapsed_sections": [],
   "name": "Baseline.ipynb",
   "provenance": []
  },
  "kernelspec": {
   "display_name": "Python 3 (ipykernel)",
   "language": "python",
   "name": "python3"
  },
  "language_info": {
   "codemirror_mode": {
    "name": "ipython",
    "version": 3
   },
   "file_extension": ".py",
   "mimetype": "text/x-python",
   "name": "python",
   "nbconvert_exporter": "python",
   "pygments_lexer": "ipython3",
   "version": "3.9.7"
  }
 },
 "nbformat": 4,
 "nbformat_minor": 1
}
